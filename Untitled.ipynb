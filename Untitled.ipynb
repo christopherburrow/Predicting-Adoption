{
 "cells": [
  {
   "cell_type": "code",
   "execution_count": 59,
   "metadata": {},
   "outputs": [],
   "source": [
    "import pandas as pd\n",
    "import numpy as np\n",
    "import matplotlib.pyplot as plt\n",
    "import seaborn as sns\n",
    "import sys\n",
    "import pprint\n",
    "import timeit\n",
    "from sklearn import preprocessing\n",
    "from sklearn.model_selection import train_test_split\n",
    "from sklearn.preprocessing import LabelEncoder\n",
    "from sklearn import metrics\n",
    "from scipy.stats import uniform, truncnorm, randint\n",
    "%matplotlib inline\n",
    "pd.options.mode.chained_assignment = None "
   ]
  },
  {
   "cell_type": "code",
   "execution_count": 2,
   "metadata": {},
   "outputs": [],
   "source": [
    "#Importing csv files that will be used for training and testing\n",
    "intakes = pd.read_csv(r'C:\\Users\\cburrow\\Desktop\\Capstone\\Intakes.csv')\n",
    "outcomes = pd.read_csv(r'C:\\Users\\cburrow\\Desktop\\Capstone\\Outcomes.csv')"
   ]
  },
  {
   "cell_type": "code",
   "execution_count": 3,
   "metadata": {},
   "outputs": [
    {
     "data": {
      "text/html": [
       "<div>\n",
       "<style scoped>\n",
       "    .dataframe tbody tr th:only-of-type {\n",
       "        vertical-align: middle;\n",
       "    }\n",
       "\n",
       "    .dataframe tbody tr th {\n",
       "        vertical-align: top;\n",
       "    }\n",
       "\n",
       "    .dataframe thead th {\n",
       "        text-align: right;\n",
       "    }\n",
       "</style>\n",
       "<table border=\"1\" class=\"dataframe\">\n",
       "  <thead>\n",
       "    <tr style=\"text-align: right;\">\n",
       "      <th></th>\n",
       "      <th>Animal ID</th>\n",
       "      <th>Name</th>\n",
       "      <th>DateTime</th>\n",
       "      <th>MonthYear</th>\n",
       "      <th>Found Location</th>\n",
       "      <th>Intake Type</th>\n",
       "      <th>Intake Condition</th>\n",
       "      <th>Animal Type</th>\n",
       "      <th>Sex upon Intake</th>\n",
       "      <th>Age upon Intake</th>\n",
       "      <th>Breed</th>\n",
       "      <th>Color</th>\n",
       "    </tr>\n",
       "  </thead>\n",
       "  <tbody>\n",
       "    <tr>\n",
       "      <th>0</th>\n",
       "      <td>A786884</td>\n",
       "      <td>*Brock</td>\n",
       "      <td>01/03/2019 04:19:00 PM</td>\n",
       "      <td>01/03/2019 04:19:00 PM</td>\n",
       "      <td>2501 Magin Meadow Dr in Austin (TX)</td>\n",
       "      <td>Stray</td>\n",
       "      <td>Normal</td>\n",
       "      <td>Dog</td>\n",
       "      <td>Neutered Male</td>\n",
       "      <td>2 years</td>\n",
       "      <td>Beagle Mix</td>\n",
       "      <td>Tricolor</td>\n",
       "    </tr>\n",
       "    <tr>\n",
       "      <th>1</th>\n",
       "      <td>A706918</td>\n",
       "      <td>Belle</td>\n",
       "      <td>07/05/2015 12:59:00 PM</td>\n",
       "      <td>07/05/2015 12:59:00 PM</td>\n",
       "      <td>9409 Bluegrass Dr in Austin (TX)</td>\n",
       "      <td>Stray</td>\n",
       "      <td>Normal</td>\n",
       "      <td>Dog</td>\n",
       "      <td>Spayed Female</td>\n",
       "      <td>8 years</td>\n",
       "      <td>English Springer Spaniel</td>\n",
       "      <td>White/Liver</td>\n",
       "    </tr>\n",
       "    <tr>\n",
       "      <th>2</th>\n",
       "      <td>A724273</td>\n",
       "      <td>Runster</td>\n",
       "      <td>04/14/2016 06:43:00 PM</td>\n",
       "      <td>04/14/2016 06:43:00 PM</td>\n",
       "      <td>2818 Palomino Trail in Austin (TX)</td>\n",
       "      <td>Stray</td>\n",
       "      <td>Normal</td>\n",
       "      <td>Dog</td>\n",
       "      <td>Intact Male</td>\n",
       "      <td>11 months</td>\n",
       "      <td>Basenji Mix</td>\n",
       "      <td>Sable/White</td>\n",
       "    </tr>\n",
       "    <tr>\n",
       "      <th>3</th>\n",
       "      <td>A665644</td>\n",
       "      <td>NaN</td>\n",
       "      <td>10/21/2013 07:59:00 AM</td>\n",
       "      <td>10/21/2013 07:59:00 AM</td>\n",
       "      <td>Austin (TX)</td>\n",
       "      <td>Stray</td>\n",
       "      <td>Sick</td>\n",
       "      <td>Cat</td>\n",
       "      <td>Intact Female</td>\n",
       "      <td>4 weeks</td>\n",
       "      <td>Domestic Shorthair Mix</td>\n",
       "      <td>Calico</td>\n",
       "    </tr>\n",
       "    <tr>\n",
       "      <th>4</th>\n",
       "      <td>A682524</td>\n",
       "      <td>Rio</td>\n",
       "      <td>06/29/2014 10:38:00 AM</td>\n",
       "      <td>06/29/2014 10:38:00 AM</td>\n",
       "      <td>800 Grove Blvd in Austin (TX)</td>\n",
       "      <td>Stray</td>\n",
       "      <td>Normal</td>\n",
       "      <td>Dog</td>\n",
       "      <td>Neutered Male</td>\n",
       "      <td>4 years</td>\n",
       "      <td>Doberman Pinsch/Australian Cattle Dog</td>\n",
       "      <td>Tan/Gray</td>\n",
       "    </tr>\n",
       "  </tbody>\n",
       "</table>\n",
       "</div>"
      ],
      "text/plain": [
       "  Animal ID     Name                DateTime               MonthYear  \\\n",
       "0   A786884   *Brock  01/03/2019 04:19:00 PM  01/03/2019 04:19:00 PM   \n",
       "1   A706918    Belle  07/05/2015 12:59:00 PM  07/05/2015 12:59:00 PM   \n",
       "2   A724273  Runster  04/14/2016 06:43:00 PM  04/14/2016 06:43:00 PM   \n",
       "3   A665644      NaN  10/21/2013 07:59:00 AM  10/21/2013 07:59:00 AM   \n",
       "4   A682524      Rio  06/29/2014 10:38:00 AM  06/29/2014 10:38:00 AM   \n",
       "\n",
       "                        Found Location Intake Type Intake Condition  \\\n",
       "0  2501 Magin Meadow Dr in Austin (TX)       Stray           Normal   \n",
       "1     9409 Bluegrass Dr in Austin (TX)       Stray           Normal   \n",
       "2   2818 Palomino Trail in Austin (TX)       Stray           Normal   \n",
       "3                          Austin (TX)       Stray             Sick   \n",
       "4        800 Grove Blvd in Austin (TX)       Stray           Normal   \n",
       "\n",
       "  Animal Type Sex upon Intake Age upon Intake  \\\n",
       "0         Dog   Neutered Male         2 years   \n",
       "1         Dog   Spayed Female         8 years   \n",
       "2         Dog     Intact Male       11 months   \n",
       "3         Cat   Intact Female         4 weeks   \n",
       "4         Dog   Neutered Male         4 years   \n",
       "\n",
       "                                   Breed        Color  \n",
       "0                             Beagle Mix     Tricolor  \n",
       "1               English Springer Spaniel  White/Liver  \n",
       "2                            Basenji Mix  Sable/White  \n",
       "3                 Domestic Shorthair Mix       Calico  \n",
       "4  Doberman Pinsch/Australian Cattle Dog     Tan/Gray  "
      ]
     },
     "execution_count": 3,
     "metadata": {},
     "output_type": "execute_result"
    }
   ],
   "source": [
    "intakes.head()"
   ]
  },
  {
   "cell_type": "code",
   "execution_count": 4,
   "metadata": {},
   "outputs": [
    {
     "data": {
      "text/html": [
       "<div>\n",
       "<style scoped>\n",
       "    .dataframe tbody tr th:only-of-type {\n",
       "        vertical-align: middle;\n",
       "    }\n",
       "\n",
       "    .dataframe tbody tr th {\n",
       "        vertical-align: top;\n",
       "    }\n",
       "\n",
       "    .dataframe thead th {\n",
       "        text-align: right;\n",
       "    }\n",
       "</style>\n",
       "<table border=\"1\" class=\"dataframe\">\n",
       "  <thead>\n",
       "    <tr style=\"text-align: right;\">\n",
       "      <th></th>\n",
       "      <th>Animal ID</th>\n",
       "      <th>Name</th>\n",
       "      <th>DateTime</th>\n",
       "      <th>MonthYear</th>\n",
       "      <th>Date of Birth</th>\n",
       "      <th>Outcome Type</th>\n",
       "      <th>Outcome Subtype</th>\n",
       "      <th>Animal Type</th>\n",
       "      <th>Sex upon Outcome</th>\n",
       "      <th>Age upon Outcome</th>\n",
       "      <th>Breed</th>\n",
       "      <th>Color</th>\n",
       "    </tr>\n",
       "  </thead>\n",
       "  <tbody>\n",
       "    <tr>\n",
       "      <th>0</th>\n",
       "      <td>A794011</td>\n",
       "      <td>Chunk</td>\n",
       "      <td>05/08/2019 06:20:00 PM</td>\n",
       "      <td>05/08/2019 06:20:00 PM</td>\n",
       "      <td>05/02/2017</td>\n",
       "      <td>Rto-Adopt</td>\n",
       "      <td>NaN</td>\n",
       "      <td>Cat</td>\n",
       "      <td>Neutered Male</td>\n",
       "      <td>2 years</td>\n",
       "      <td>Domestic Shorthair Mix</td>\n",
       "      <td>Brown Tabby/White</td>\n",
       "    </tr>\n",
       "    <tr>\n",
       "      <th>1</th>\n",
       "      <td>A776359</td>\n",
       "      <td>Gizmo</td>\n",
       "      <td>07/18/2018 04:02:00 PM</td>\n",
       "      <td>07/18/2018 04:02:00 PM</td>\n",
       "      <td>07/12/2017</td>\n",
       "      <td>Adoption</td>\n",
       "      <td>NaN</td>\n",
       "      <td>Dog</td>\n",
       "      <td>Neutered Male</td>\n",
       "      <td>1 year</td>\n",
       "      <td>Chihuahua Shorthair Mix</td>\n",
       "      <td>White/Brown</td>\n",
       "    </tr>\n",
       "    <tr>\n",
       "      <th>2</th>\n",
       "      <td>A821648</td>\n",
       "      <td>NaN</td>\n",
       "      <td>08/16/2020 11:38:00 AM</td>\n",
       "      <td>08/16/2020 11:38:00 AM</td>\n",
       "      <td>08/16/2019</td>\n",
       "      <td>Euthanasia</td>\n",
       "      <td>NaN</td>\n",
       "      <td>Other</td>\n",
       "      <td>Unknown</td>\n",
       "      <td>1 year</td>\n",
       "      <td>Raccoon</td>\n",
       "      <td>Gray</td>\n",
       "    </tr>\n",
       "    <tr>\n",
       "      <th>3</th>\n",
       "      <td>A720371</td>\n",
       "      <td>Moose</td>\n",
       "      <td>02/13/2016 05:59:00 PM</td>\n",
       "      <td>02/13/2016 05:59:00 PM</td>\n",
       "      <td>10/08/2015</td>\n",
       "      <td>Adoption</td>\n",
       "      <td>NaN</td>\n",
       "      <td>Dog</td>\n",
       "      <td>Neutered Male</td>\n",
       "      <td>4 months</td>\n",
       "      <td>Anatol Shepherd/Labrador Retriever</td>\n",
       "      <td>Buff</td>\n",
       "    </tr>\n",
       "    <tr>\n",
       "      <th>4</th>\n",
       "      <td>A674754</td>\n",
       "      <td>NaN</td>\n",
       "      <td>03/18/2014 11:47:00 AM</td>\n",
       "      <td>03/18/2014 11:47:00 AM</td>\n",
       "      <td>03/12/2014</td>\n",
       "      <td>Transfer</td>\n",
       "      <td>Partner</td>\n",
       "      <td>Cat</td>\n",
       "      <td>Intact Male</td>\n",
       "      <td>6 days</td>\n",
       "      <td>Domestic Shorthair Mix</td>\n",
       "      <td>Orange Tabby</td>\n",
       "    </tr>\n",
       "  </tbody>\n",
       "</table>\n",
       "</div>"
      ],
      "text/plain": [
       "  Animal ID   Name                DateTime               MonthYear  \\\n",
       "0   A794011  Chunk  05/08/2019 06:20:00 PM  05/08/2019 06:20:00 PM   \n",
       "1   A776359  Gizmo  07/18/2018 04:02:00 PM  07/18/2018 04:02:00 PM   \n",
       "2   A821648    NaN  08/16/2020 11:38:00 AM  08/16/2020 11:38:00 AM   \n",
       "3   A720371  Moose  02/13/2016 05:59:00 PM  02/13/2016 05:59:00 PM   \n",
       "4   A674754    NaN  03/18/2014 11:47:00 AM  03/18/2014 11:47:00 AM   \n",
       "\n",
       "  Date of Birth Outcome Type Outcome Subtype Animal Type Sex upon Outcome  \\\n",
       "0    05/02/2017    Rto-Adopt             NaN         Cat    Neutered Male   \n",
       "1    07/12/2017     Adoption             NaN         Dog    Neutered Male   \n",
       "2    08/16/2019   Euthanasia             NaN       Other          Unknown   \n",
       "3    10/08/2015     Adoption             NaN         Dog    Neutered Male   \n",
       "4    03/12/2014     Transfer         Partner         Cat      Intact Male   \n",
       "\n",
       "  Age upon Outcome                               Breed              Color  \n",
       "0          2 years              Domestic Shorthair Mix  Brown Tabby/White  \n",
       "1           1 year             Chihuahua Shorthair Mix        White/Brown  \n",
       "2           1 year                             Raccoon               Gray  \n",
       "3         4 months  Anatol Shepherd/Labrador Retriever               Buff  \n",
       "4           6 days              Domestic Shorthair Mix       Orange Tabby  "
      ]
     },
     "execution_count": 4,
     "metadata": {},
     "output_type": "execute_result"
    }
   ],
   "source": [
    "outcomes.head()"
   ]
  },
  {
   "cell_type": "code",
   "execution_count": 5,
   "metadata": {},
   "outputs": [],
   "source": [
    "#Dropping unneded columns and renaming columns\n",
    "intakes.drop(['Found Location', 'MonthYear', 'Animal Type', 'Breed', 'Color',\"Age upon Intake\"],axis=1,inplace=True)\n",
    "intakes = intakes.rename({'DateTime': 'Intake DateTime','Name':'Name on Intake'}, axis=1)\n",
    "outcomes.drop(['MonthYear', \"Age upon Outcome\", \"Outcome Subtype\"],axis=1,inplace=True)\n",
    "outcomes = outcomes.rename({'DateTime': 'Outcome DateTime','Name':'Name on Outcome'}, axis=1)"
   ]
  },
  {
   "cell_type": "code",
   "execution_count": 6,
   "metadata": {},
   "outputs": [],
   "source": [
    "#Merging two csvs into one dataframe\n",
    "animals = pd.merge(intakes, outcomes, on='Animal ID', how='outer')"
   ]
  },
  {
   "cell_type": "code",
   "execution_count": 7,
   "metadata": {},
   "outputs": [
    {
     "name": "stdout",
     "output_type": "stream",
     "text": [
      "<class 'pandas.core.frame.DataFrame'>\n",
      "Int64Index: 163465 entries, 0 to 163464\n",
      "Data columns (total 14 columns):\n",
      " #   Column            Non-Null Count   Dtype \n",
      "---  ------            --------------   ----- \n",
      " 0   Animal ID         163465 non-null  object\n",
      " 1   Name on Intake    122310 non-null  object\n",
      " 2   Intake DateTime   162650 non-null  object\n",
      " 3   Intake Type       162650 non-null  object\n",
      " 4   Intake Condition  162650 non-null  object\n",
      " 5   Sex upon Intake   162649 non-null  object\n",
      " 6   Name on Outcome   122597 non-null  object\n",
      " 7   Outcome DateTime  162731 non-null  object\n",
      " 8   Date of Birth     162731 non-null  object\n",
      " 9   Outcome Type      162700 non-null  object\n",
      " 10  Animal Type       162731 non-null  object\n",
      " 11  Sex upon Outcome  162728 non-null  object\n",
      " 12  Breed             162731 non-null  object\n",
      " 13  Color             162731 non-null  object\n",
      "dtypes: object(14)\n",
      "memory usage: 18.7+ MB\n"
     ]
    }
   ],
   "source": [
    "animals.info()"
   ]
  },
  {
   "cell_type": "code",
   "execution_count": 8,
   "metadata": {},
   "outputs": [],
   "source": [
    "#converting dates into identical datetime formats\n",
    "animals['Intake DateTime'] =  pd.to_datetime(animals['Intake DateTime']).dt.date\n",
    "animals['Outcome DateTime'] =  pd.to_datetime(animals['Outcome DateTime']).dt.date\n",
    "animals['Date of Birth'] = pd.to_datetime(animals['Date of Birth']).dt.date\n",
    "\n",
    "#Creating new feature for Age\n",
    "animals[\"Age Upon Intake\"] = (animals[\"Intake DateTime\"]-animals[\"Date of Birth\"]).astype('timedelta64[D]')\n",
    "animals[\"Age Upon Outcome\"]= (animals[\"Outcome DateTime\"]-animals[\"Date of Birth\"]).astype('timedelta64[D]')\n",
    "animals[\"Days in Shelter\"] = (animals[\"Outcome DateTime\"] - animals[\"Intake DateTime\"]).astype('timedelta64[D]')"
   ]
  },
  {
   "cell_type": "code",
   "execution_count": 9,
   "metadata": {},
   "outputs": [
    {
     "data": {
      "text/html": [
       "<div>\n",
       "<style scoped>\n",
       "    .dataframe tbody tr th:only-of-type {\n",
       "        vertical-align: middle;\n",
       "    }\n",
       "\n",
       "    .dataframe tbody tr th {\n",
       "        vertical-align: top;\n",
       "    }\n",
       "\n",
       "    .dataframe thead th {\n",
       "        text-align: right;\n",
       "    }\n",
       "</style>\n",
       "<table border=\"1\" class=\"dataframe\">\n",
       "  <thead>\n",
       "    <tr style=\"text-align: right;\">\n",
       "      <th></th>\n",
       "      <th>Age Upon Intake</th>\n",
       "      <th>Age Upon Outcome</th>\n",
       "      <th>Days in Shelter</th>\n",
       "    </tr>\n",
       "  </thead>\n",
       "  <tbody>\n",
       "    <tr>\n",
       "      <th>count</th>\n",
       "      <td>161916.000000</td>\n",
       "      <td>162731.000000</td>\n",
       "      <td>161916.000000</td>\n",
       "    </tr>\n",
       "    <tr>\n",
       "      <th>mean</th>\n",
       "      <td>860.244355</td>\n",
       "      <td>877.648395</td>\n",
       "      <td>17.628530</td>\n",
       "    </tr>\n",
       "    <tr>\n",
       "      <th>std</th>\n",
       "      <td>1067.483789</td>\n",
       "      <td>1069.622351</td>\n",
       "      <td>251.750428</td>\n",
       "    </tr>\n",
       "    <tr>\n",
       "      <th>min</th>\n",
       "      <td>-1129.000000</td>\n",
       "      <td>-1116.000000</td>\n",
       "      <td>-2744.000000</td>\n",
       "    </tr>\n",
       "    <tr>\n",
       "      <th>25%</th>\n",
       "      <td>120.000000</td>\n",
       "      <td>128.000000</td>\n",
       "      <td>1.000000</td>\n",
       "    </tr>\n",
       "    <tr>\n",
       "      <th>50%</th>\n",
       "      <td>395.000000</td>\n",
       "      <td>430.000000</td>\n",
       "      <td>5.000000</td>\n",
       "    </tr>\n",
       "    <tr>\n",
       "      <th>75%</th>\n",
       "      <td>1096.000000</td>\n",
       "      <td>1106.000000</td>\n",
       "      <td>24.000000</td>\n",
       "    </tr>\n",
       "    <tr>\n",
       "      <th>max</th>\n",
       "      <td>9132.000000</td>\n",
       "      <td>9137.000000</td>\n",
       "      <td>2607.000000</td>\n",
       "    </tr>\n",
       "  </tbody>\n",
       "</table>\n",
       "</div>"
      ],
      "text/plain": [
       "       Age Upon Intake  Age Upon Outcome  Days in Shelter\n",
       "count    161916.000000     162731.000000    161916.000000\n",
       "mean        860.244355        877.648395        17.628530\n",
       "std        1067.483789       1069.622351       251.750428\n",
       "min       -1129.000000      -1116.000000     -2744.000000\n",
       "25%         120.000000        128.000000         1.000000\n",
       "50%         395.000000        430.000000         5.000000\n",
       "75%        1096.000000       1106.000000        24.000000\n",
       "max        9132.000000       9137.000000      2607.000000"
      ]
     },
     "execution_count": 9,
     "metadata": {},
     "output_type": "execute_result"
    }
   ],
   "source": [
    "animals.describe()"
   ]
  },
  {
   "cell_type": "code",
   "execution_count": 10,
   "metadata": {},
   "outputs": [],
   "source": [
    "#Dropping ages less than 0\n",
    "animals.drop(animals[animals[\"Age Upon Intake\"] < 0].index, inplace=True)\n",
    "animals.drop(animals[animals[\"Age Upon Outcome\"] < 0].index, inplace=True)\n",
    "animals.drop(animals[animals[\"Days in Shelter\"] < 0].index, inplace=True)"
   ]
  },
  {
   "cell_type": "code",
   "execution_count": 11,
   "metadata": {},
   "outputs": [],
   "source": [
    "#filling names with 0 or 1\n",
    "animals['Name on Intake'] = animals['Name on Intake'].fillna(0)\n",
    "animals['Name on Intake'] = animals['Name on Intake'].astype(bool).astype(int)\n",
    "\n",
    "#filling names with 0 or 1\n",
    "animals['Name on Outcome'] = animals['Name on Outcome'].fillna(0)\n",
    "animals['Name on Outcome'] = animals['Name on Outcome'].astype(bool).astype(int)"
   ]
  },
  {
   "cell_type": "code",
   "execution_count": 12,
   "metadata": {},
   "outputs": [],
   "source": [
    "#Dropping rows that contain data that will not be used and dropping Animal ID. \n",
    "animals.drop(animals[animals[\"Outcome Type\"] == 'Return to Owner'].index, inplace=True)\n",
    "animals.drop(animals[animals[\"Outcome Type\"] == 'Euthanasia'].index, inplace=True)\n",
    "animals.drop(animals[animals[\"Outcome Type\"] == 'Disposal'].index, inplace=True)\n",
    "animals.drop(animals[animals[\"Outcome Type\"] == 'Died'].index, inplace=True)\n",
    "animals.drop(animals[animals[\"Outcome Type\"] == 'Missing'].index, inplace=True)\n",
    "animals.drop(animals[animals[\"Outcome Type\"] == 'Rto-Adopt'].index, inplace=True)\n",
    "animals.drop(animals[animals[\"Outcome Type\"] == 'Relocate'].index, inplace=True)\n",
    "animals.drop(animals[animals[\"Outcome Type\"] == 'nan'].index, inplace=True)\n",
    "animals.drop(animals[animals[\"Animal Type\"] == 'Bird'].index, inplace=True)\n",
    "animals.drop(animals[animals[\"Animal Type\"] == 'Other'].index, inplace=True)\n",
    "animals.drop(animals[animals[\"Animal Type\"] == 'nan'].index, inplace=True)\n",
    "animals.drop(animals[animals[\"Animal Type\"] == 'NaN'].index, inplace=True)\n",
    "animals.drop(animals[animals[\"Animal Type\"] == 'Livestock'].index, inplace=True)\n",
    "animals.drop(animals[animals[\"Intake Type\"] == 'nan'].index, inplace=True)\n",
    "animals.drop(animals[animals[\"Sex upon Intake\"] == 'nan'].index, inplace=True)\n",
    "animals = animals.drop(columns=['Animal ID'])\n",
    "\n",
    "#Dropping rows that have these columns as NA\n",
    "animals = animals.dropna(subset=['Animal Type','Intake DateTime','Outcome Type'])"
   ]
  },
  {
   "cell_type": "code",
   "execution_count": 13,
   "metadata": {},
   "outputs": [],
   "source": [
    "#Creating dataframes for analysis\n",
    "adoptedanimals = animals[animals['Outcome Type'] == 'Adoption']\n",
    "transferedanimals = animals[animals['Outcome Type'] == 'Transfer']\n",
    "allanimals = animals"
   ]
  },
  {
   "cell_type": "code",
   "execution_count": 14,
   "metadata": {},
   "outputs": [],
   "source": [
    "#Encoding data \n",
    "labelencoder = LabelEncoder()\n",
    "animals['Intake Type'] = labelencoder.fit_transform(animals['Intake Type'])\n",
    "animals['Intake Condition'] = labelencoder.fit_transform(animals['Intake Condition'])\n",
    "animals['Sex upon Intake'] = labelencoder.fit_transform(animals['Sex upon Intake'])\n",
    "animals['Animal Type'] = labelencoder.fit_transform(animals['Animal Type'])\n",
    "animals['Sex upon Outcome'] = labelencoder.fit_transform(animals['Sex upon Outcome'])\n",
    "animals['Breed'] = labelencoder.fit_transform(animals['Breed'])\n",
    "animals['Color'] = labelencoder.fit_transform(animals['Color'])\n",
    "animals['Outcome Type'] = labelencoder.fit_transform(animals['Outcome Type'])\n",
    "\n",
    "#Setting columnn datatypes to category\n",
    "for columns in animals:\n",
    "    animals[columns] = animals[columns].astype('category')\n",
    "    \n",
    "#Creating feature and label lists\n",
    "features = animals.filter(['Name on Intake', 'Intake DateTime','Intake Type','Intake Condition','Sex upon Intake','Date of Birth','Animal Type','Breed','Color','Age Upon Intake'])\n",
    "labels = animals.filter(['Outcome Type'])\n",
    "\n",
    "#Converting to numpy array\n",
    "features = features.to_numpy()\n",
    "labels = labels.to_numpy()"
   ]
  },
  {
   "cell_type": "code",
   "execution_count": 15,
   "metadata": {},
   "outputs": [],
   "source": [
    "#Importing csv files that will be used for training and testing\n",
    "test_group_intakes = pd.read_csv(r'C:\\Users\\cburrow\\Desktop\\Capstone\\intakes_testing.csv')\n",
    "test_group_outcomes = pd.read_csv(r'C:\\Users\\cburrow\\Desktop\\Capstone\\outcomes_testing.csv')\n",
    "\n",
    "#Dropping unneded columns and renaming columns\n",
    "test_group_intakes.drop(['Found Location', 'MonthYear', 'Animal Type', 'Breed', 'Color',\"Age upon Intake\"],axis=1,inplace=True)\n",
    "test_group_intakes = test_group_intakes.rename({'DateTime': 'Intake DateTime','Name':'Name on Intake'}, axis=1)\n",
    "test_group_outcomes.drop(['MonthYear', \"Age upon Outcome\", \"Outcome Subtype\"],axis=1,inplace=True)\n",
    "test_group_outcomes = test_group_outcomes.rename({'DateTime': 'Outcome DateTime','Name':'Name on Outcome'}, axis=1)\n",
    "\n",
    "#Merging two csvs into one dataframe\n",
    "test_group = pd.merge(test_group_intakes, test_group_outcomes, on='Animal ID', how='outer')\n",
    "\n",
    "#converting dates into identical datetime formats\n",
    "test_group['Intake DateTime'] =  pd.to_datetime(test_group['Intake DateTime']).dt.date\n",
    "test_group['Outcome DateTime'] =  pd.to_datetime(test_group['Outcome DateTime']).dt.date\n",
    "test_group['Date of Birth'] = pd.to_datetime(test_group['Date of Birth']).dt.date\n",
    "\n",
    "#Dropping rows that contain data that will not be used and dropping Animal ID. \n",
    "test_group.drop(test_group[test_group[\"Outcome Type\"] == 'Return to Owner'].index, inplace=True)\n",
    "test_group.drop(test_group[test_group[\"Outcome Type\"] == 'Euthanasia'].index, inplace=True)\n",
    "test_group.drop(test_group[test_group[\"Outcome Type\"] == 'Disposal'].index, inplace=True)\n",
    "test_group.drop(test_group[test_group[\"Outcome Type\"] == 'Died'].index, inplace=True)\n",
    "test_group.drop(test_group[test_group[\"Outcome Type\"] == 'Missing'].index, inplace=True)\n",
    "test_group.drop(test_group[test_group[\"Outcome Type\"] == 'Rto-Adopt'].index, inplace=True)\n",
    "test_group.drop(test_group[test_group[\"Outcome Type\"] == 'Relocate'].index, inplace=True)\n",
    "test_group.drop(test_group[test_group[\"Outcome Type\"] == 'nan'].index, inplace=True)\n",
    "test_group.drop(test_group[test_group[\"Animal Type\"] == 'Bird'].index, inplace=True)\n",
    "test_group.drop(test_group[test_group[\"Animal Type\"] == 'Other'].index, inplace=True)\n",
    "test_group.drop(test_group[test_group[\"Animal Type\"] == 'nan'].index, inplace=True)\n",
    "test_group.drop(test_group[test_group[\"Animal Type\"] == 'NaN'].index, inplace=True)\n",
    "test_group.drop(test_group[test_group[\"Animal Type\"] == 'Livestock'].index, inplace=True)\n",
    "test_group.drop(test_group[test_group[\"Intake Type\"] == 'nan'].index, inplace=True)\n",
    "test_group.drop(test_group[test_group[\"Sex upon Intake\"] == 'nan'].index, inplace=True)\n",
    "test_group = test_group.drop(columns=['Animal ID'])\n",
    "\n",
    "#Creating new feature for Age\n",
    "test_group[\"Age Upon Intake\"] = (test_group[\"Intake DateTime\"]-test_group[\"Date of Birth\"]).astype('timedelta64[D]')\n",
    "test_group[\"Age Upon Outcome\"]= (test_group[\"Outcome DateTime\"]-test_group[\"Date of Birth\"]).astype('timedelta64[D]')\n",
    "test_group[\"Days in Shelter\"] = (test_group[\"Outcome DateTime\"]-test_group[\"Intake DateTime\"]).astype('timedelta64[D]')\n",
    "\n",
    "#Dropping ages less than 0\n",
    "test_group.drop(test_group[test_group[\"Age Upon Intake\"] < 0].index, inplace=True)\n",
    "test_group.drop(test_group[test_group[\"Age Upon Outcome\"] < 0].index, inplace=True)\n",
    "test_group.drop(test_group[test_group[\"Days in Shelter\"] < 0].index, inplace=True)\n",
    "\n",
    "#filling names with 0 or 1\n",
    "test_group['Name on Intake'] = test_group['Name on Intake'].fillna(0)\n",
    "test_group['Name on Intake'] = test_group['Name on Intake'].astype(bool).astype(int)\n",
    "\n",
    "#filling names with 0 or 1\n",
    "test_group['Name on Outcome'] = test_group['Name on Outcome'].fillna(0)\n",
    "test_group['Name on Outcome'] = test_group['Name on Outcome'].astype(bool).astype(int)\n",
    "\n",
    "#Dropping rows that have these columns as NA\n",
    "test_group = test_group.dropna(subset=['Animal Type','Intake DateTime','Outcome Type'])\n",
    "\n",
    "#Export dataframe to csv to pull out test examples in excel\n",
    "#test_group.to_csv (r'C:\\Users\\cburrow\\Desktop\\Capstone\\testing.csv',index=False,header=True)"
   ]
  },
  {
   "cell_type": "code",
   "execution_count": 16,
   "metadata": {},
   "outputs": [],
   "source": [
    "#Import csv with 4 results that will be the final test\n",
    "test_group = pd.read_csv(r'C:\\Users\\cburrow\\Desktop\\Capstone\\testing.csv')\n",
    "\n",
    "#Remove columns not used in prediction\n",
    "test_group.drop(['Name on Outcome', 'Outcome DateTime', 'Outcome Type', 'Sex upon Outcome', 'Age Upon Outcome'], axis=1)\n",
    "\n",
    "test_group['Intake DateTime'] =  pd.to_datetime(test_group['Intake DateTime']).dt.date\n",
    "test_group['Date of Birth'] = pd.to_datetime(test_group['Date of Birth']).dt.date\n",
    "\n",
    "#Encoding data \n",
    "labelencoder = LabelEncoder()\n",
    "test_group['Intake Type'] = labelencoder.fit_transform(test_group['Intake Type'])\n",
    "test_group['Intake Condition'] = labelencoder.fit_transform(test_group['Intake Condition'])\n",
    "test_group['Sex upon Intake'] = labelencoder.fit_transform(test_group['Sex upon Intake'])\n",
    "test_group['Animal Type'] = labelencoder.fit_transform(test_group['Animal Type'])\n",
    "test_group['Sex upon Outcome'] = labelencoder.fit_transform(test_group['Sex upon Outcome'])\n",
    "test_group['Breed'] = labelencoder.fit_transform(test_group['Breed'])\n",
    "test_group['Color'] = labelencoder.fit_transform(test_group['Color'])\n",
    "test_group['Outcome Type'] = labelencoder.fit_transform(test_group['Outcome Type'])\n",
    "\n",
    "\n",
    "#Setting columnn datatypes to category\n",
    "for columns in test_group:\n",
    "    test_group[columns] = test_group[columns].astype('category')\n",
    "\n",
    "#Creating feature and label lists\n",
    "animalfeaturestest = test_group.filter(['Name on Intake', 'Intake DateTime','Intake Type','Intake Condition','Sex upon Intake','Date of Birth','Animal Type','Breed','Color','Age Upon Intake'])\n",
    "animallabelstest = test_group.filter(['Outcome Type'])\n",
    "\n",
    "#Converting to numpy array\n",
    "featurestest = animalfeaturestest.to_numpy()\n",
    "labelstest = animallabelstest.to_numpy()"
   ]
  },
  {
   "cell_type": "code",
   "execution_count": 17,
   "metadata": {},
   "outputs": [],
   "source": [
    "#Spltting data into training and testing set\n",
    "x_train, x_test, y_train, y_test = train_test_split(features, labels, test_size=0.2, random_state=42)"
   ]
  },
  {
   "cell_type": "code",
   "execution_count": 69,
   "metadata": {},
   "outputs": [
    {
     "name": "stdout",
     "output_type": "stream",
     "text": [
      "0.61648373380797\n",
      "0.4649122807017544\n",
      "0.006839592205445864\n"
     ]
    }
   ],
   "source": [
    "#Naive Bayes Classification\n",
    "from sklearn.naive_bayes import GaussianNB\n",
    "class_nb = GaussianNB()\n",
    "class_nb.fit(x_train,y_train.ravel())\n",
    "nb_predict = class_nb.predict(x_test)\n",
    "print(metrics.accuracy_score(y_test,nb_predict))\n",
    "print(metrics.precision_score(y_test,nb_predict))\n",
    "print(metrics.recall_score(y_test,nb_predict))"
   ]
  },
  {
   "cell_type": "code",
   "execution_count": 19,
   "metadata": {},
   "outputs": [
    {
     "name": "stdout",
     "output_type": "stream",
     "text": [
      "0.7241669138732325\n",
      "0.6437086092715232\n",
      "0.627177700348432\n"
     ]
    }
   ],
   "source": [
    "#Decision Tree Classification\n",
    "from sklearn import tree\n",
    "class_tree = tree.DecisionTreeClassifier()\n",
    "class_tree.fit(x_train, y_train)\n",
    "tree_predict = class_tree.predict(x_test)\n",
    "print(metrics.accuracy_score(y_test,tree_predict))\n",
    "print(metrics.precision_score(y_test,tree_predict))\n",
    "print(metrics.recall_score(y_test,tree_predict))"
   ]
  },
  {
   "cell_type": "code",
   "execution_count": 20,
   "metadata": {},
   "outputs": [
    {
     "name": "stdout",
     "output_type": "stream",
     "text": [
      "0.7725205181449619\n",
      "0.7707258341933264\n",
      "0.5782681636340173\n"
     ]
    }
   ],
   "source": [
    "#Random Forest Classifier\n",
    "from sklearn.ensemble import RandomForestClassifier\n",
    "class_random = RandomForestClassifier()\n",
    "class_random.fit(x_train, y_train.ravel())\n",
    "random_predict = class_random.predict(x_test)\n",
    "print(metrics.accuracy_score(y_test,random_predict))\n",
    "print(metrics.precision_score(y_test,random_predict))\n",
    "print(metrics.recall_score(y_test,random_predict))"
   ]
  },
  {
   "cell_type": "markdown",
   "metadata": {},
   "source": [
    "#Tuning model\n",
    "from sklearn.model_selection import RandomizedSearchCV\n",
    "\n",
    "model_params = {\n",
    "    'n_estimators':randint(4,200),\n",
    "    'max_features': truncnorm(a=0, b=1, loc=0.25, scale=0.1),\n",
    "    'min_samples_split': uniform(0.01, 0.199)\n",
    "}\n",
    "\n",
    "rf_model = RandomForestClassifier()\n",
    "clf = RandomizedSearchCV(rf_model, model_params, n_iter=100, cv=5, random_state=1)\n",
    "model = clf.fit(x_train, y_train.ravel())\n",
    "from pprint import pprint\n",
    "pprint(model.best_estimator_.get_params())\n"
   ]
  },
  {
   "cell_type": "markdown",
   "metadata": {},
   "source": [
    "#Running tuned model\n",
    "tuned_predict = model.predict(x_test)\n",
    "print(metrics.accuracy_score(y_test,tuned_predict))\n",
    "print(metrics.precision_score(y_test,tuned_predict))\n",
    "print(metrics.recall_score(y_test,tuned_predict))"
   ]
  },
  {
   "cell_type": "code",
   "execution_count": 62,
   "metadata": {},
   "outputs": [
    {
     "name": "stdout",
     "output_type": "stream",
     "text": [
      "[1 0 1 0]\n"
     ]
    },
    {
     "data": {
      "text/plain": [
       "0.09136750000106986"
      ]
     },
     "execution_count": 62,
     "metadata": {},
     "output_type": "execute_result"
    }
   ],
   "source": [
    "test_prediction_final = class_random.predict(featurestest)\n",
    "print(test_prediction_final)\n",
    "timeit.timeit(lambda:test_prediction_final)"
   ]
  },
  {
   "cell_type": "code",
   "execution_count": 40,
   "metadata": {},
   "outputs": [],
   "source": [
    "allanimals['Intake Month'] = pd.DatetimeIndex(allanimals['Intake DateTime']).month\n",
    "adoptedanimals['Intake Month'] = pd.DatetimeIndex(adoptedanimals['Intake DateTime']).month\n",
    "transferedanimals['Intake Month'] = pd.DatetimeIndex(transferedanimals['Intake DateTime']).month\n",
    "allanimals['Outcome Month'] = pd.DatetimeIndex(allanimals['Outcome DateTime']).month\n",
    "adoptedanimals['Outcome Month'] = pd.DatetimeIndex(adoptedanimals['Outcome DateTime']).month\n",
    "transferedanimals['Outcome Month'] = pd.DatetimeIndex(transferedanimals['Outcome DateTime']).month"
   ]
  },
  {
   "cell_type": "code",
   "execution_count": 43,
   "metadata": {},
   "outputs": [],
   "source": [
    "monthly_intake = allanimals.groupby(['Intake Month']).size()\n",
    "monthly_outcome = allanimals.groupby(['Outcome Month']).size()"
   ]
  },
  {
   "cell_type": "code",
   "execution_count": 114,
   "metadata": {},
   "outputs": [
    {
     "data": {
      "text/plain": [
       "Intake Month\n",
       "1      7191\n",
       "2      6528\n",
       "3      7145\n",
       "4      7520\n",
       "5     10216\n",
       "6     10212\n",
       "7      9235\n",
       "8      8944\n",
       "9      9144\n",
       "10     9670\n",
       "11     8087\n",
       "12     7236\n",
       "dtype: int64"
      ]
     },
     "execution_count": 114,
     "metadata": {},
     "output_type": "execute_result"
    }
   ],
   "source": [
    "allanimals.groupby(['Intake Month']).size()"
   ]
  },
  {
   "cell_type": "code",
   "execution_count": 91,
   "metadata": {},
   "outputs": [
    {
     "data": {
      "text/plain": [
       "count      12.000000\n",
       "mean     3192.166667\n",
       "std       695.565151\n",
       "min      2172.000000\n",
       "25%      2537.750000\n",
       "50%      3287.000000\n",
       "75%      3768.250000\n",
       "max      3999.000000\n",
       "dtype: float64"
      ]
     },
     "execution_count": 91,
     "metadata": {},
     "output_type": "execute_result"
    }
   ],
   "source": [
    "transferedanimals.groupby(['Intake Month']).size().describe()"
   ]
  },
  {
   "cell_type": "code",
   "execution_count": 104,
   "metadata": {},
   "outputs": [],
   "source": [
    "transfered_animals = transferedanimals.groupby(['Intake Month']).size()"
   ]
  },
  {
   "cell_type": "code",
   "execution_count": 110,
   "metadata": {},
   "outputs": [],
   "source": [
    "transfered_animals *= 0.77"
   ]
  },
  {
   "cell_type": "code",
   "execution_count": 116,
   "metadata": {},
   "outputs": [],
   "source": [
    "newpop = allanimals.groupby(['Intake Month']).size() - transfered_animals"
   ]
  },
  {
   "cell_type": "code",
   "execution_count": 117,
   "metadata": {},
   "outputs": [
    {
     "data": {
      "text/plain": [
       "count      12.000000\n",
       "mean     5969.365000\n",
       "std       788.983533\n",
       "min      4855.560000\n",
       "25%      5361.725000\n",
       "50%      5987.205000\n",
       "75%      6442.197500\n",
       "max      7136.770000\n",
       "dtype: float64"
      ]
     },
     "execution_count": 117,
     "metadata": {},
     "output_type": "execute_result"
    }
   ],
   "source": [
    "newpop.describe()"
   ]
  },
  {
   "cell_type": "code",
   "execution_count": 118,
   "metadata": {},
   "outputs": [
    {
     "data": {
      "text/plain": [
       "<AxesSubplot:>"
      ]
     },
     "execution_count": 118,
     "metadata": {},
     "output_type": "execute_result"
    },
    {
     "data": {
      "image/png": "[encoded data removed]",
      "text/plain": [
       "<Figure size 432x288 with 1 Axes>"
      ]
     },
     "metadata": {
      "needs_background": "light"
     },
     "output_type": "display_data"
    }
   ],
   "source": [
    "allanimals.groupby(['Intake Month']).size().describe().plot.box()"
   ]
  },
  {
   "cell_type": "code",
   "execution_count": 119,
   "metadata": {},
   "outputs": [
    {
     "data": {
      "text/plain": [
       "<AxesSubplot:>"
      ]
     },
     "execution_count": 119,
     "metadata": {},
     "output_type": "execute_result"
    },
    {
     "data": {
      "image/png": "[encoded data removed]",
      "text/plain": [
       "<Figure size 432x288 with 1 Axes>"
      ]
     },
     "metadata": {
      "needs_background": "light"
     },
     "output_type": "display_data"
    }
   ],
   "source": [
    "newpop.plot.box()"
   ]
  },
  {
   "cell_type": "code",
   "execution_count": null,
   "metadata": {},
   "outputs": [],
   "source": []
  }
 ],
 "metadata": {
  "kernelspec": {
   "display_name": "Python 3",
   "language": "python",
   "name": "python3"
  },
  "language_info": {
   "codemirror_mode": {
    "name": "ipython",
    "version": 3
   },
   "file_extension": ".py",
   "mimetype": "text/x-python",
   "name": "python",
   "nbconvert_exporter": "python",
   "pygments_lexer": "ipython3",
   "version": "3.8.5"
  }
 },
 "nbformat": 4,
 "nbformat_minor": 4
}
